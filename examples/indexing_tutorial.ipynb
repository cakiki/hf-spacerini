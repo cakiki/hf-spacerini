{
 "cells": [
  {
   "cell_type": "code",
   "execution_count": 3,
   "metadata": {},
   "outputs": [],
   "source": [
    "from spacerini.index import index_streaming_hf_dataset"
   ]
  },
  {
   "attachments": {},
   "cell_type": "markdown",
   "metadata": {},
   "source": [
    "In this notebook, we demonstrate how to index the Swahili part of the [`Mr. TyDi corpus`](https://huggingface.co/datasets/castorini/mr-tydi-corpus) on the fly using the `bert-base-multilingual-uncased` tokenizer available on [`HuggingFace`](https://huggingface.co/bert-base-multilingual-uncased). This should take roughly 3mins on a Mac M1.\n",
    "\n",
    "For a full understanding of arguments passed to Anserini, see [`io.anserini.index.IndexCollection.Args`](https://github.com/castorini/anserini)"
   ]
  },
  {
   "cell_type": "code",
   "execution_count": 7,
   "metadata": {},
   "outputs": [
    {
     "name": "stdout",
     "output_type": "stream",
     "text": [
      "WARNING: sun.reflect.Reflection.getCallerClass is not supported. This will impact performance.\n"
     ]
    },
    {
     "name": "stderr",
     "output_type": "stream",
     "text": [
      "0it [00:00, ?it/s]"
     ]
    },
    {
     "name": "stdout",
     "output_type": "stream",
     "text": [
      "2023-02-13 16:52:23,349 INFO  [main] index.SimpleIndexer (SimpleIndexer.java:120) - Bert Tokenizer\n"
     ]
    },
    {
     "name": "stderr",
     "output_type": "stream",
     "text": [
      "136689it [02:00, 1131.45it/s]\n"
     ]
    }
   ],
   "source": [
    "index_streaming_hf_dataset(\n",
    "    \"./test-index\",\n",
    "    \"castorini/mr-tydi-corpus\",\n",
    "    \"train\",\n",
    "    \"text\",\n",
    "    ds_config_name=\"swahili\",   # This is used by datasets to load the Swahili split of the mr-tydi-corpus\n",
    "    language=\"swahili\",         # This is passed to Anserini and may be used to initialize a Lucene Indexer\n",
    "    analyzeWithHuggingFaceTokenizer=\"bert-base-multilingual-uncased\"\n",
    ")"
   ]
  },
  {
   "cell_type": "code",
   "execution_count": null,
   "metadata": {},
   "outputs": [],
   "source": []
  }
 ],
 "metadata": {
  "kernelspec": {
   "display_name": "pyserini-dev",
   "language": "python",
   "name": "python3"
  },
  "language_info": {
   "codemirror_mode": {
    "name": "ipython",
    "version": 3
   },
   "file_extension": ".py",
   "mimetype": "text/x-python",
   "name": "python",
   "nbconvert_exporter": "python",
   "pygments_lexer": "ipython3",
   "version": "3.8.15"
  },
  "orig_nbformat": 4,
  "vscode": {
   "interpreter": {
    "hash": "b0d9161c88aeda2dc6f47d29dac86208dc1568afc6233ac80536ab4d91f86f7a"
   }
  }
 },
 "nbformat": 4,
 "nbformat_minor": 2
}
